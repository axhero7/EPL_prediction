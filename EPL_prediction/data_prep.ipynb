{
 "cells": [
  {
   "cell_type": "code",
   "execution_count": 2,
   "metadata": {},
   "outputs": [],
   "source": [
    "import pandas as pd\n",
    "import tensorflow as tf\n",
    "from sklearn.model_selection import train_test_split\n",
    "from pathlib import Path"
   ]
  },
  {
   "cell_type": "code",
   "execution_count": 3,
   "metadata": {},
   "source": [
    "DATA_PATH = Path(\"./\")\n",
    "datasets = []\n",
    "for i in DATA_PATH.glob('*.csv'):\n",
    "    datasets.append(pd.read_csv(i))\n",
    "# print(datasets)"
   ]
  },
  {
   "cell_type": "code",
   "execution_count": 4,
   "metadata": {},
   "outputs": [
    {
     "data": {
      "text/html": [
       "<div>\n",
       "<style scoped>\n",
       "    .dataframe tbody tr th:only-of-type {\n",
       "        vertical-align: middle;\n",
       "    }\n",
       "\n",
       "    .dataframe tbody tr th {\n",
       "        vertical-align: top;\n",
       "    }\n",
       "\n",
       "    .dataframe thead th {\n",
       "        text-align: right;\n",
       "    }\n",
       "</style>\n",
       "<table border=\"1\" class=\"dataframe\">\n",
       "  <thead>\n",
       "    <tr style=\"text-align: right;\">\n",
       "      <th></th>\n",
       "      <th>HomeTeam</th>\n",
       "      <th>AwayTeam</th>\n",
       "      <th>FTR</th>\n",
       "    </tr>\n",
       "  </thead>\n",
       "  <tbody>\n",
       "    <tr>\n",
       "      <th>0</th>\n",
       "      <td>Arsenal</td>\n",
       "      <td>Crystal Palace</td>\n",
       "      <td>H</td>\n",
       "    </tr>\n",
       "    <tr>\n",
       "      <th>1</th>\n",
       "      <td>Leicester</td>\n",
       "      <td>Everton</td>\n",
       "      <td>D</td>\n",
       "    </tr>\n",
       "    <tr>\n",
       "      <th>2</th>\n",
       "      <td>Man United</td>\n",
       "      <td>Swansea</td>\n",
       "      <td>A</td>\n",
       "    </tr>\n",
       "    <tr>\n",
       "      <th>3</th>\n",
       "      <td>QPR</td>\n",
       "      <td>Hull</td>\n",
       "      <td>A</td>\n",
       "    </tr>\n",
       "    <tr>\n",
       "      <th>4</th>\n",
       "      <td>Stoke</td>\n",
       "      <td>Aston Villa</td>\n",
       "      <td>A</td>\n",
       "    </tr>\n",
       "    <tr>\n",
       "      <th>...</th>\n",
       "      <td>...</td>\n",
       "      <td>...</td>\n",
       "      <td>...</td>\n",
       "    </tr>\n",
       "    <tr>\n",
       "      <th>375</th>\n",
       "      <td>Liverpool</td>\n",
       "      <td>Middlesbrough</td>\n",
       "      <td>H</td>\n",
       "    </tr>\n",
       "    <tr>\n",
       "      <th>376</th>\n",
       "      <td>Man United</td>\n",
       "      <td>Crystal Palace</td>\n",
       "      <td>H</td>\n",
       "    </tr>\n",
       "    <tr>\n",
       "      <th>377</th>\n",
       "      <td>Southampton</td>\n",
       "      <td>Stoke</td>\n",
       "      <td>A</td>\n",
       "    </tr>\n",
       "    <tr>\n",
       "      <th>378</th>\n",
       "      <td>Swansea</td>\n",
       "      <td>West Brom</td>\n",
       "      <td>H</td>\n",
       "    </tr>\n",
       "    <tr>\n",
       "      <th>379</th>\n",
       "      <td>Watford</td>\n",
       "      <td>Man City</td>\n",
       "      <td>A</td>\n",
       "    </tr>\n",
       "  </tbody>\n",
       "</table>\n",
       "<p>3306 rows × 3 columns</p>\n",
       "</div>"
      ],
      "text/plain": [
       "        HomeTeam        AwayTeam FTR\n",
       "0        Arsenal  Crystal Palace   H\n",
       "1      Leicester         Everton   D\n",
       "2     Man United         Swansea   A\n",
       "3            QPR            Hull   A\n",
       "4          Stoke     Aston Villa   A\n",
       "..           ...             ...  ..\n",
       "375    Liverpool   Middlesbrough   H\n",
       "376   Man United  Crystal Palace   H\n",
       "377  Southampton           Stoke   A\n",
       "378      Swansea       West Brom   H\n",
       "379      Watford        Man City   A\n",
       "\n",
       "[3306 rows x 3 columns]"
      ]
     },
     "execution_count": 4,
     "metadata": {},
     "output_type": "execute_result"
    }
   ],
   "source": [
    "df = pd.DataFrame()\n",
    "for season in datasets:\n",
    "    df = pd.concat([df, season.loc[:, [\"HomeTeam\", \"AwayTeam\", \"FTR\"]].dropna()])\n",
    "df"
   ]
  },
  {
   "cell_type": "code",
   "execution_count": 5,
   "metadata": {},
   "outputs": [],
   "source": [
    "X = df[[\"HomeTeam\", \"AwayTeam\"]]\n",
    "y = df[[\"FTR\"]]\n",
    "X_train, X_test, y_train, y_test = train_test_split(X, y, test_size=0.3)"
   ]
  },
  {
   "cell_type": "code",
   "execution_count": 6,
   "metadata": {},
   "outputs": [],
   "source": [
    "X_train = pd.get_dummies(X_train)\n",
    "X_test = pd.get_dummies(X_test)"
   ]
  },
  {
   "cell_type": "code",
   "execution_count": 7,
   "metadata": {},
   "outputs": [],
   "source": [
    "from sklearn.linear_model import LogisticRegression\n",
    "from sklearn import preprocessing"
   ]
  },
  {
   "cell_type": "code",
   "execution_count": 8,
   "metadata": {},
   "outputs": [
    {
     "name": "stderr",
     "output_type": "stream",
     "text": [
      "/home/rohan/miniconda3/envs/ML1/lib/python3.9/site-packages/sklearn/utils/validation.py:993: DataConversionWarning: A column-vector y was passed when a 1d array was expected. Please change the shape of y to (n_samples, ), for example using ravel().\n",
      "  y = column_or_1d(y, warn=True)\n"
     ]
    },
    {
     "data": {
      "text/plain": [
       "0.5241935483870968"
      ]
     },
     "execution_count": 8,
     "metadata": {},
     "output_type": "execute_result"
    }
   ],
   "source": [
    "model = LogisticRegression()\n",
    "reg = model.fit(X_train, y_train)\n",
    "reg.score(X_test, y_test)"
   ]
  },
  {
   "cell_type": "code",
   "execution_count": 9,
   "metadata": {},
   "outputs": [
    {
     "data": {
      "text/plain": [
       "['HomeTeam_Arsenal',\n",
       " 'HomeTeam_Aston Villa',\n",
       " 'HomeTeam_Bournemouth',\n",
       " 'HomeTeam_Brentford',\n",
       " 'HomeTeam_Brighton',\n",
       " 'HomeTeam_Burnley',\n",
       " 'HomeTeam_Cardiff',\n",
       " 'HomeTeam_Chelsea',\n",
       " 'HomeTeam_Crystal Palace',\n",
       " 'HomeTeam_Everton',\n",
       " 'HomeTeam_Fulham',\n",
       " 'HomeTeam_Huddersfield',\n",
       " 'HomeTeam_Hull',\n",
       " 'HomeTeam_Leeds',\n",
       " 'HomeTeam_Leicester',\n",
       " 'HomeTeam_Liverpool',\n",
       " 'HomeTeam_Man City',\n",
       " 'HomeTeam_Man United',\n",
       " 'HomeTeam_Middlesbrough',\n",
       " 'HomeTeam_Newcastle',\n",
       " 'HomeTeam_Norwich',\n",
       " 'HomeTeam_QPR',\n",
       " 'HomeTeam_Sheffield United',\n",
       " 'HomeTeam_Southampton',\n",
       " 'HomeTeam_Stoke',\n",
       " 'HomeTeam_Sunderland',\n",
       " 'HomeTeam_Swansea',\n",
       " 'HomeTeam_Tottenham',\n",
       " 'HomeTeam_Watford',\n",
       " 'HomeTeam_West Brom',\n",
       " 'HomeTeam_West Ham',\n",
       " 'HomeTeam_Wolves',\n",
       " 'AwayTeam_Arsenal',\n",
       " 'AwayTeam_Aston Villa',\n",
       " 'AwayTeam_Bournemouth',\n",
       " 'AwayTeam_Brentford',\n",
       " 'AwayTeam_Brighton',\n",
       " 'AwayTeam_Burnley',\n",
       " 'AwayTeam_Cardiff',\n",
       " 'AwayTeam_Chelsea',\n",
       " 'AwayTeam_Crystal Palace',\n",
       " 'AwayTeam_Everton',\n",
       " 'AwayTeam_Fulham',\n",
       " 'AwayTeam_Huddersfield',\n",
       " 'AwayTeam_Hull',\n",
       " 'AwayTeam_Leeds',\n",
       " 'AwayTeam_Leicester',\n",
       " 'AwayTeam_Liverpool',\n",
       " 'AwayTeam_Man City',\n",
       " 'AwayTeam_Man United',\n",
       " 'AwayTeam_Middlesbrough',\n",
       " 'AwayTeam_Newcastle',\n",
       " 'AwayTeam_Norwich',\n",
       " 'AwayTeam_QPR',\n",
       " 'AwayTeam_Sheffield United',\n",
       " 'AwayTeam_Southampton',\n",
       " 'AwayTeam_Stoke',\n",
       " 'AwayTeam_Sunderland',\n",
       " 'AwayTeam_Swansea',\n",
       " 'AwayTeam_Tottenham',\n",
       " 'AwayTeam_Watford',\n",
       " 'AwayTeam_West Brom',\n",
       " 'AwayTeam_West Ham',\n",
       " 'AwayTeam_Wolves']"
      ]
     },
     "execution_count": 9,
     "metadata": {},
     "output_type": "execute_result"
    }
   ],
   "source": [
    "OHE_teams = list(X_train.columns)\n",
    "OHE_teams"
   ]
  },
  {
   "cell_type": "code",
   "execution_count": 10,
   "metadata": {},
   "outputs": [],
   "source": [
    "def PredictTeam(HomeTeam_Name, AwayTeam_Name):\n",
    "    test_dataframe = [0]*64\n",
    "    test_dataframe[OHE_teams.index(HomeTeam_Name)] = 1\n",
    "    test_dataframe[OHE_teams.index(AwayTeam_Name)] = 1\n",
    "    return test_dataframe"
   ]
  },
  {
   "cell_type": "code",
   "execution_count": 11,
   "metadata": {},
   "outputs": [],
   "source": [
    "# prediction_df = [OHE_teams, PredictTeam(\"HomeTeam_Man United\", \"HomeTeam_Arsenal\")]\n",
    "# prediction_df = pd.DataFrame(prediction_df)\n",
    "# prediction_df\n",
    "# reg.predict(prediction_df)"
   ]
  },
  {
   "cell_type": "code",
   "execution_count": null,
   "metadata": {},
   "outputs": [],
   "source": []
  }
 ],
 "metadata": {
  "interpreter": {
   "hash": "49cf10620b9158bad72ed3e951ad400f8dc870c915ec7c1818684802549e4ced"
  },
  "kernelspec": {
   "display_name": "Python 3.9.7 ('ML1')",
   "language": "python",
   "name": "python3"
  },
  "language_info": {
   "codemirror_mode": {
    "name": "ipython",
    "version": 3
   },
   "file_extension": ".py",
   "mimetype": "text/x-python",
   "name": "python",
   "nbconvert_exporter": "python",
   "pygments_lexer": "ipython3",
   "version": "3.9.7"
  },
  "orig_nbformat": 4
 },
 "nbformat": 4,
 "nbformat_minor": 2
}
